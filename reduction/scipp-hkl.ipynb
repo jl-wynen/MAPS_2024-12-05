{
 "cells": [
  {
   "cell_type": "code",
   "execution_count": null,
   "id": "initial_id",
   "metadata": {
    "ExecuteTime": {
     "end_time": "2024-12-05T18:15:44.598757Z",
     "start_time": "2024-12-05T18:15:41.980518Z"
    }
   },
   "outputs": [],
   "source": [
    "from pathlib import Path\n",
    "import re\n",
    "\n",
    "# import mantid.simpleapi as mantid\n",
    "import numpy as np\n",
    "import scipp as sc\n",
    "import scipp.constants\n",
    "import scippneutron as scn\n",
    "# import scippnexus as snx"
   ]
  },
  {
   "cell_type": "code",
   "execution_count": null,
   "id": "35696f8d-e033-41a5-976c-d1c07bd34670",
   "metadata": {},
   "outputs": [],
   "source": [
    "%matplotlib widget"
   ]
  },
  {
   "cell_type": "code",
   "execution_count": null,
   "id": "b6715d46a8befefc",
   "metadata": {
    "ExecuteTime": {
     "end_time": "2024-12-05T18:15:44.610232Z",
     "start_time": "2024-12-05T18:15:44.607146Z"
    }
   },
   "outputs": [],
   "source": [
    "DATA_DIR = Path(\".\").resolve().parent / \"data\""
   ]
  },
  {
   "cell_type": "code",
   "execution_count": null,
   "id": "58bb27b2a0147f51",
   "metadata": {
    "ExecuteTime": {
     "end_time": "2024-12-05T18:15:49.885536Z",
     "start_time": "2024-12-05T18:15:44.733991Z"
    }
   },
   "outputs": [],
   "source": [
    "raw = scn.load_with_mantid(DATA_DIR / \"raw\" / \"MAP51007.raw\")\n",
    "raw_data = raw['data']\n",
    "run_title = raw['run_title'].value"
   ]
  },
  {
   "cell_type": "code",
   "execution_count": null,
   "id": "ea6b2628e3f355b1",
   "metadata": {
    "ExecuteTime": {
     "end_time": "2024-12-05T18:15:49.899510Z",
     "start_time": "2024-12-05T18:15:49.897279Z"
    }
   },
   "outputs": [],
   "source": [
    "# raw_data = raw_data['spectrum', :100].copy()"
   ]
  },
  {
   "cell_type": "code",
   "execution_count": null,
   "id": "f6259adef2d153f5",
   "metadata": {
    "ExecuteTime": {
     "end_time": "2024-12-05T18:15:49.963532Z",
     "start_time": "2024-12-05T18:15:49.953127Z"
    }
   },
   "outputs": [],
   "source": [
    "m = re.search(r'Ei=([\\d.+\\-]+)(\\w+)', run_title)\n",
    "incident_energy = sc.scalar(float(m[1]), unit=m[2])"
   ]
  },
  {
   "cell_type": "code",
   "execution_count": null,
   "id": "a73d1081a386f4a4",
   "metadata": {
    "ExecuteTime": {
     "end_time": "2024-12-05T18:15:50.018070Z",
     "start_time": "2024-12-05T18:15:50.011736Z"
    }
   },
   "outputs": [],
   "source": [
    "m = re.search(r'Rot=([\\d.+\\-]+)', run_title)\n",
    "sample_rotation = sc.spatial.rotations_from_rotvecs(sc.vector([0,float(m[1]),0], unit='deg'))"
   ]
  },
  {
   "cell_type": "code",
   "execution_count": null,
   "id": "2ec37e002f1b3098",
   "metadata": {
    "ExecuteTime": {
     "end_time": "2024-12-05T18:15:50.078937Z",
     "start_time": "2024-12-05T18:15:50.070269Z"
    }
   },
   "outputs": [],
   "source": [
    "ub_matrix = sc.spatial.linear_transform(value=[[0.2039,0.1019,0.0],[0.0,0.1754,0.0],[0.0,0.0,0.222]])"
   ]
  },
  {
   "cell_type": "code",
   "execution_count": null,
   "id": "68430c62a4a083ac",
   "metadata": {
    "ExecuteTime": {
     "end_time": "2024-12-05T18:15:50.129851Z",
     "start_time": "2024-12-05T18:15:50.125361Z"
    }
   },
   "outputs": [],
   "source": [
    "raw_data.coords['incident_energy'] = incident_energy  # The loaded data has 0 here for some reason\n",
    "raw_data.coords['sample_rotation'] = sample_rotation\n",
    "raw_data.coords['ub_matrix'] = ub_matrix\n",
    "# raw_data"
   ]
  },
  {
   "cell_type": "code",
   "execution_count": null,
   "id": "6ae2f6eea756952d",
   "metadata": {
    "ExecuteTime": {
     "end_time": "2024-12-05T18:15:51.099518Z",
     "start_time": "2024-12-05T18:15:50.183398Z"
    }
   },
   "outputs": [],
   "source": [
    "raw_data.sum('spectrum').plot()"
   ]
  },
  {
   "cell_type": "code",
   "execution_count": null,
   "id": "b345262b729acdfc",
   "metadata": {
    "ExecuteTime": {
     "end_time": "2024-12-05T18:15:51.156452Z",
     "start_time": "2024-12-05T18:15:51.150936Z"
    }
   },
   "outputs": [],
   "source": [
    "def hkl_elements_from_hkl_vec(*, hkl_vec):\n",
    "    # fix for https://github.com/scipp/scippneutron/issues/580\n",
    "    return {'h': hkl_vec.fields.x, 'k': hkl_vec.fields.y, 'l': hkl_vec.fields.z}\n",
    "\n",
    "def wavelength_from_energy(E):\n",
    "    return sc.constants.h / sc.sqrt(2 * sc.constants.m_n * E)\n",
    "\n",
    "\n",
    "def inelastic_Q(*, incident_beam, scattered_beam, energy_transfer, incident_energy):\n",
    "    v_i = incident_beam / sc.norm(incident_beam)\n",
    "    v_f = scattered_beam / sc.norm(scattered_beam)\n",
    "\n",
    "    E_f = incident_energy - energy_transfer\n",
    "    k_f = 2*np.pi / wavelength_from_energy(E_f) * v_f\n",
    "    k_i = 2*np.pi / wavelength_from_energy(incident_energy) * v_i\n",
    "\n",
    "    Q = k_i - k_f\n",
    "    return Q\n",
    "\n",
    "\n",
    "def coord_transform_graph():\n",
    "    from scippneutron.conversion.graph import tof, beamline\n",
    "    from scippneutron.conversion import tof as _kernels\n",
    "    return {\n",
    "        **beamline.beamline(scatter=True),\n",
    "        **tof.direct_inelastic(start='tof'),\n",
    "        'hkl_vec': _kernels.hkl_vec_from_Q_vec,\n",
    "        ('h', 'k', 'l'): hkl_elements_from_hkl_vec,\n",
    "        'ub_matrix': _kernels.ub_matrix_from_u_and_b,\n",
    "        'Q_vec': inelastic_Q,\n",
    "        # 'Q_vec': _kernels.Q_vec_from_Q_elements,\n",
    "    }\n",
    "\n",
    "\n",
    "graph = coord_transform_graph()"
   ]
  },
  {
   "cell_type": "code",
   "execution_count": null,
   "id": "121f2cbadbfe20c3",
   "metadata": {
    "ExecuteTime": {
     "end_time": "2024-12-05T18:15:51.197434Z",
     "start_time": "2024-12-05T18:15:51.194991Z"
    }
   },
   "outputs": [],
   "source": [
    "# sc.show_graph(graph)"
   ]
  },
  {
   "cell_type": "code",
   "execution_count": null,
   "id": "8178846faa09cb06",
   "metadata": {
    "ExecuteTime": {
     "end_time": "2024-12-05T18:15:55.830882Z",
     "start_time": "2024-12-05T18:15:51.245303Z"
    }
   },
   "outputs": [],
   "source": [
    "hkl_data = raw_data.transform_coords(['h', 'k', 'l', 'energy_transfer'],\n",
    "                                     graph,\n",
    "                                     keep_inputs=False, keep_intermediate=False)"
   ]
  },
  {
   "cell_type": "code",
   "execution_count": null,
   "id": "30ef66b06447fc0c",
   "metadata": {
    "ExecuteTime": {
     "end_time": "2024-12-05T18:15:56.181449Z",
     "start_time": "2024-12-05T18:15:55.850049Z"
    }
   },
   "outputs": [],
   "source": [
    "hkl_data"
   ]
  },
  {
   "cell_type": "code",
   "execution_count": null,
   "id": "828aafb490a69815",
   "metadata": {
    "ExecuteTime": {
     "end_time": "2024-12-05T18:15:58.849252Z",
     "start_time": "2024-12-05T18:15:56.239575Z"
    }
   },
   "outputs": [],
   "source": [
    "for k in 'hkl':\n",
    "    hkl_data.coords[k] = sc.midpoints(hkl_data.coords[k], dim='hkl_vec').to(unit='1/Å')\n",
    "hkl_data.coords['energy_transfer'] = sc.midpoints(hkl_data.coords['energy_transfer'], dim='hkl_vec').to(unit='meV')"
   ]
  },
  {
   "cell_type": "code",
   "execution_count": null,
   "id": "5988f6c385e3c880",
   "metadata": {
    "ExecuteTime": {
     "end_time": "2024-12-05T18:16:07.448047Z",
     "start_time": "2024-12-05T18:15:58.855436Z"
    }
   },
   "outputs": [],
   "source": [
    "u = hkl_data.coords['h'].unit\n",
    "h_edges = sc.linspace('h', -0.2, 0.2, 201, unit=u)\n",
    "l_edges = sc.linspace('l', -2, 2, 201, unit=u)\n",
    "e_edges = sc.linspace('energy_transfer', 15.0, 20, 2, unit='meV')\n",
    "\n",
    "\n",
    "hist = hkl_data.hist(l=l_edges, h=h_edges, energy_transfer=e_edges).sum('energy_transfer').plot(norm='log')\n",
    "hist"
   ]
  },
  {
   "cell_type": "code",
   "execution_count": null,
   "id": "4216c024ffca8108",
   "metadata": {
    "ExecuteTime": {
     "end_time": "2024-12-05T18:16:07.506453Z",
     "start_time": "2024-12-05T18:16:07.504157Z"
    }
   },
   "outputs": [],
   "source": []
  }
 ],
 "metadata": {
  "kernelspec": {
   "display_name": "Python 3 (ipykernel)",
   "language": "python",
   "name": "python3"
  },
  "language_info": {
   "codemirror_mode": {
    "name": "ipython",
    "version": 3
   },
   "file_extension": ".py",
   "mimetype": "text/x-python",
   "name": "python",
   "nbconvert_exporter": "python",
   "pygments_lexer": "ipython3",
   "version": "3.10.15"
  }
 },
 "nbformat": 4,
 "nbformat_minor": 5
}
